{
  "nbformat": 4,
  "nbformat_minor": 0,
  "metadata": {
    "colab": {
      "name": "digit-recognizer.ipynb",
      "provenance": [],
      "collapsed_sections": [],
      "mount_file_id": "1nvJfNfGP4tXBWRQwQIED0rW84aIrg3EW",
      "authorship_tag": "ABX9TyPcDms4YL/V3aUmH9hEKo3X",
      "include_colab_link": true
    },
    "kernelspec": {
      "name": "python3",
      "display_name": "Python 3"
    }
  },
  "cells": [
    {
      "cell_type": "markdown",
      "metadata": {
        "id": "view-in-github",
        "colab_type": "text"
      },
      "source": [
        "<a href=\"https://colab.research.google.com/github/Ayush-Porwal/kaggle-digit-recognizer/blob/master/digit_recognizer_with_augmentations.ipynb\" target=\"_parent\"><img src=\"https://colab.research.google.com/assets/colab-badge.svg\" alt=\"Open In Colab\"/></a>"
      ]
    },
    {
      "cell_type": "code",
      "metadata": {
        "id": "NQHt8yzVuMiC",
        "colab_type": "code",
        "colab": {
          "base_uri": "https://localhost:8080/",
          "height": 34
        },
        "outputId": "87b636e5-856f-4bb6-858f-591cb3b3769a"
      },
      "source": [
        "import matplotlib.pyplot as plt\n",
        "import tensorflow as tf\n",
        "import csv\n",
        "import numpy as np\n",
        "from keras.utils import np_utils\n",
        "from keras.preprocessing.image import ImageDataGenerator"
      ],
      "execution_count": 1,
      "outputs": [
        {
          "output_type": "stream",
          "text": [
            "Using TensorFlow backend.\n"
          ],
          "name": "stderr"
        }
      ]
    },
    {
      "cell_type": "code",
      "metadata": {
        "id": "PpAPB55Uv0O-",
        "colab_type": "code",
        "colab": {}
      },
      "source": [
        "train_file_path = '/content/drive/My Drive/Colab Notebooks/kaggle-datasets/digit-recognizer/train.csv'\n",
        "test_file_path = '/content/drive/My Drive/Colab Notebooks/kaggle-datasets/digit-recognizer/test.csv'"
      ],
      "execution_count": 2,
      "outputs": []
    },
    {
      "cell_type": "code",
      "metadata": {
        "id": "JCqj8b6YxeBX",
        "colab_type": "code",
        "colab": {}
      },
      "source": [
        "def get_train_test_data(train_file_path, test_file_path):\n",
        "  \n",
        "  with open(train_file_path) as train_file:\n",
        "    train_images = []\n",
        "    train_labels = []\n",
        "    \n",
        "    train_reader = csv.reader(train_file)\n",
        "    next(train_reader)\n",
        "    \n",
        "    for row in train_reader:\n",
        "      train_labels.append(row[0])\n",
        "      train_images.append(np.array(row[1:]).reshape(28,28))\n",
        "  \n",
        "  with open(test_file_path) as test_file:\n",
        "    test_images = []\n",
        "    test_labels = []\n",
        "\n",
        "    test_reader = csv.reader(test_file)\n",
        "    next(test_reader)\n",
        "\n",
        "    for row in test_reader:\n",
        "      test_images.append(np.array(row[0:]).reshape(28,28))\n",
        "  \n",
        "  return np.array(train_images).astype(float), np.array(train_labels).astype(float), np.array(test_images).astype(float)/255"
      ],
      "execution_count": 10,
      "outputs": []
    },
    {
      "cell_type": "code",
      "metadata": {
        "id": "MA8HyBdU_KMs",
        "colab_type": "code",
        "colab": {
          "base_uri": "https://localhost:8080/",
          "height": 68
        },
        "outputId": "1b34e496-09fa-4adc-9601-d54a032fc01f"
      },
      "source": [
        "train_images, train_labels, test_images = get_train_test_data(train_file_path, test_file_path)\n",
        "\n",
        "train_labels = np_utils.to_categorical(train_labels)\n",
        "train_images = np.expand_dims(train_images, axis = 3)\n",
        "test_images = np.expand_dims(test_images, axis = 3)\n",
        "\n",
        "print(f'The shape of train_images is: {train_images.shape}')\n",
        "print(f'The shape of train_labels is: {train_labels.shape}')\n",
        "print(f'The shape of test_images is: {test_images.shape}')\n",
        "\n",
        "data_generator = ImageDataGenerator(\n",
        "    rescale = 1/255.0,\n",
        "    rotation_range = 10,\n",
        "    width_shift_range = 0.1,\n",
        "    height_shift_range = 0.1,\n",
        "    zoom_range = 0.1,\n",
        "    validation_split=0.1\n",
        ")"
      ],
      "execution_count": 13,
      "outputs": [
        {
          "output_type": "stream",
          "text": [
            "The shape of train_images is: (42000, 28, 28, 1)\n",
            "The shape of train_labels is: (42000, 10)\n",
            "The shape of test_images is: (28000, 28, 28, 1)\n"
          ],
          "name": "stdout"
        }
      ]
    },
    {
      "cell_type": "code",
      "metadata": {
        "id": "LRpfEeVnEGnc",
        "colab_type": "code",
        "colab": {
          "base_uri": "https://localhost:8080/",
          "height": 323
        },
        "outputId": "9e8c4044-4d66-4bdb-e37f-898348017a5f"
      },
      "source": [
        "model = tf.keras.Sequential([\n",
        "    tf.keras.layers.Conv2D(32, (3,3), input_shape = (28,28,1), activation = 'relu'),\n",
        "    tf.keras.layers.MaxPooling2D(2,2),\n",
        "    tf.keras.layers.Flatten(),\n",
        "    tf.keras.layers.Dense(512, activation = 'relu'),\n",
        "    tf.keras.layers.Dense(10, activation = 'softmax')\n",
        "])\n",
        "\n",
        "model.compile(optimizer = 'adam', loss = 'categorical_crossentropy', metrics = ['accuracy'])\n",
        "\n",
        "model.summary()"
      ],
      "execution_count": 14,
      "outputs": [
        {
          "output_type": "stream",
          "text": [
            "Model: \"sequential_1\"\n",
            "_________________________________________________________________\n",
            "Layer (type)                 Output Shape              Param #   \n",
            "=================================================================\n",
            "conv2d_1 (Conv2D)            (None, 26, 26, 32)        320       \n",
            "_________________________________________________________________\n",
            "max_pooling2d_1 (MaxPooling2 (None, 13, 13, 32)        0         \n",
            "_________________________________________________________________\n",
            "flatten_1 (Flatten)          (None, 5408)              0         \n",
            "_________________________________________________________________\n",
            "dense_2 (Dense)              (None, 512)               2769408   \n",
            "_________________________________________________________________\n",
            "dense_3 (Dense)              (None, 10)                5130      \n",
            "=================================================================\n",
            "Total params: 2,774,858\n",
            "Trainable params: 2,774,858\n",
            "Non-trainable params: 0\n",
            "_________________________________________________________________\n"
          ],
          "name": "stdout"
        }
      ]
    },
    {
      "cell_type": "code",
      "metadata": {
        "id": "FwEmB2TnF4Ry",
        "colab_type": "code",
        "colab": {
          "base_uri": "https://localhost:8080/",
          "height": 717
        },
        "outputId": "2d56eba2-5bbd-4984-f245-fdc37a436d20"
      },
      "source": [
        "history = model.fit_generator(\n",
        "    data_generator.flow(train_images, train_labels, subset='training', batch_size=32),\n",
        "    validation_data = data_generator.flow(train_images, train_labels, subset='validation', batch_size=32),\n",
        "    epochs=20,\n",
        "    verbose=1\n",
        ")"
      ],
      "execution_count": 15,
      "outputs": [
        {
          "output_type": "stream",
          "text": [
            "Epoch 1/20\n",
            "1182/1182 [==============================] - 58s 49ms/step - loss: 0.3234 - accuracy: 0.8991 - val_loss: 0.1524 - val_accuracy: 0.9552\n",
            "Epoch 2/20\n",
            "1182/1182 [==============================] - 62s 52ms/step - loss: 0.1254 - accuracy: 0.9613 - val_loss: 0.1045 - val_accuracy: 0.9674\n",
            "Epoch 3/20\n",
            "1182/1182 [==============================] - 58s 49ms/step - loss: 0.0956 - accuracy: 0.9706 - val_loss: 0.0827 - val_accuracy: 0.9726\n",
            "Epoch 4/20\n",
            "1182/1182 [==============================] - 60s 51ms/step - loss: 0.0803 - accuracy: 0.9752 - val_loss: 0.0748 - val_accuracy: 0.9783\n",
            "Epoch 5/20\n",
            "1182/1182 [==============================] - 60s 50ms/step - loss: 0.0716 - accuracy: 0.9773 - val_loss: 0.0673 - val_accuracy: 0.9783\n",
            "Epoch 6/20\n",
            "1182/1182 [==============================] - 59s 50ms/step - loss: 0.0631 - accuracy: 0.9803 - val_loss: 0.0611 - val_accuracy: 0.9802\n",
            "Epoch 7/20\n",
            "1182/1182 [==============================] - 60s 50ms/step - loss: 0.0582 - accuracy: 0.9821 - val_loss: 0.0608 - val_accuracy: 0.9814\n",
            "Epoch 8/20\n",
            "1182/1182 [==============================] - 58s 49ms/step - loss: 0.0550 - accuracy: 0.9823 - val_loss: 0.0542 - val_accuracy: 0.9833\n",
            "Epoch 9/20\n",
            "1182/1182 [==============================] - 58s 49ms/step - loss: 0.0525 - accuracy: 0.9833 - val_loss: 0.0486 - val_accuracy: 0.9852\n",
            "Epoch 10/20\n",
            "1182/1182 [==============================] - 59s 50ms/step - loss: 0.0482 - accuracy: 0.9846 - val_loss: 0.0519 - val_accuracy: 0.9814\n",
            "Epoch 11/20\n",
            "1182/1182 [==============================] - 58s 49ms/step - loss: 0.0463 - accuracy: 0.9854 - val_loss: 0.0509 - val_accuracy: 0.9848\n",
            "Epoch 12/20\n",
            "1182/1182 [==============================] - 60s 51ms/step - loss: 0.0457 - accuracy: 0.9862 - val_loss: 0.0562 - val_accuracy: 0.9805\n",
            "Epoch 13/20\n",
            "1182/1182 [==============================] - 64s 54ms/step - loss: 0.0446 - accuracy: 0.9870 - val_loss: 0.0439 - val_accuracy: 0.9860\n",
            "Epoch 14/20\n",
            "1182/1182 [==============================] - 63s 53ms/step - loss: 0.0415 - accuracy: 0.9871 - val_loss: 0.0638 - val_accuracy: 0.9793\n",
            "Epoch 15/20\n",
            "1182/1182 [==============================] - 67s 57ms/step - loss: 0.0385 - accuracy: 0.9878 - val_loss: 0.0566 - val_accuracy: 0.9843\n",
            "Epoch 16/20\n",
            "1182/1182 [==============================] - 69s 59ms/step - loss: 0.0397 - accuracy: 0.9877 - val_loss: 0.0498 - val_accuracy: 0.9857\n",
            "Epoch 17/20\n",
            "1182/1182 [==============================] - 64s 54ms/step - loss: 0.0364 - accuracy: 0.9886 - val_loss: 0.0508 - val_accuracy: 0.9848\n",
            "Epoch 18/20\n",
            "1182/1182 [==============================] - 62s 53ms/step - loss: 0.0365 - accuracy: 0.9885 - val_loss: 0.0512 - val_accuracy: 0.9843\n",
            "Epoch 19/20\n",
            "1182/1182 [==============================] - 63s 53ms/step - loss: 0.0335 - accuracy: 0.9888 - val_loss: 0.0451 - val_accuracy: 0.9852\n",
            "Epoch 20/20\n",
            "1182/1182 [==============================] - 63s 53ms/step - loss: 0.0331 - accuracy: 0.9896 - val_loss: 0.0370 - val_accuracy: 0.9876\n"
          ],
          "name": "stdout"
        }
      ]
    },
    {
      "cell_type": "code",
      "metadata": {
        "id": "9wGO00-UxEoe",
        "colab_type": "code",
        "colab": {
          "base_uri": "https://localhost:8080/",
          "height": 558
        },
        "outputId": "c791a419-9963-42ae-c8bf-500bf81bfc6d"
      },
      "source": [
        "train_loss = history.history['loss']\n",
        "train_acc = history.history['accuracy']\n",
        "val_loss = history.history['val_loss']\n",
        "val_acc = history.history['val_accuracy']\n",
        "\n",
        "plt.figure()\n",
        "plt.plot(range(len(train_loss)), train_loss, '-', label = 'train-loss')\n",
        "plt.plot(range(len(val_loss)), val_loss, '-', label = 'validation-loss')\n",
        "plt.legend()\n",
        "plt.xlabel('Epochs')\n",
        "plt.ylabel('Loss')\n",
        "\n",
        "plt.figure()\n",
        "plt.plot(range(len(train_acc)), train_acc, '-', label = 'train-acc')\n",
        "plt.plot(range(len(val_acc)), val_acc, '-', label = 'validation-acc')\n",
        "plt.legend()\n",
        "plt.xlabel('Epochs')\n",
        "plt.ylabel('Accuracy')"
      ],
      "execution_count": 19,
      "outputs": [
        {
          "output_type": "execute_result",
          "data": {
            "text/plain": [
              "Text(0, 0.5, 'Accuracy')"
            ]
          },
          "metadata": {
            "tags": []
          },
          "execution_count": 19
        },
        {
          "output_type": "display_data",
          "data": {
            "image/png": "[encoded data removed]",
            "text/plain": [
              "<Figure size 432x288 with 1 Axes>"
            ]
          },
          "metadata": {
            "tags": [],
            "needs_background": "light"
          }
        },
        {
          "output_type": "display_data",
          "data": {
            "image/png": "[encoded data removed]",
            "text/plain": [
              "<Figure size 432x288 with 1 Axes>"
            ]
          },
          "metadata": {
            "tags": [],
            "needs_background": "light"
          }
        }
      ]
    },
    {
      "cell_type": "code",
      "metadata": {
        "id": "GdfDkpKVxch6",
        "colab_type": "code",
        "colab": {
          "base_uri": "https://localhost:8080/",
          "height": 204
        },
        "outputId": "62a09de9-878f-48f4-e952-12c46949be16"
      },
      "source": [
        "import pandas as pd\n",
        "results = model.predict(test_images)\n",
        "results = np.argmax(results, axis = 1)\n",
        "\n",
        "results = pd.Series(results, name = 'Label')\n",
        "submission = pd.concat([pd.Series(range(1,28001), name = 'ImageId'), results], axis = 1)\n",
        "submission.head()"
      ],
      "execution_count": 20,
      "outputs": [
        {
          "output_type": "execute_result",
          "data": {
            "text/html": [
              "<div>\n",
              "<style scoped>\n",
              "    .dataframe tbody tr th:only-of-type {\n",
              "        vertical-align: middle;\n",
              "    }\n",
              "\n",
              "    .dataframe tbody tr th {\n",
              "        vertical-align: top;\n",
              "    }\n",
              "\n",
              "    .dataframe thead th {\n",
              "        text-align: right;\n",
              "    }\n",
              "</style>\n",
              "<table border=\"1\" class=\"dataframe\">\n",
              "  <thead>\n",
              "    <tr style=\"text-align: right;\">\n",
              "      <th></th>\n",
              "      <th>ImageId</th>\n",
              "      <th>Label</th>\n",
              "    </tr>\n",
              "  </thead>\n",
              "  <tbody>\n",
              "    <tr>\n",
              "      <th>0</th>\n",
              "      <td>1</td>\n",
              "      <td>2</td>\n",
              "    </tr>\n",
              "    <tr>\n",
              "      <th>1</th>\n",
              "      <td>2</td>\n",
              "      <td>0</td>\n",
              "    </tr>\n",
              "    <tr>\n",
              "      <th>2</th>\n",
              "      <td>3</td>\n",
              "      <td>9</td>\n",
              "    </tr>\n",
              "    <tr>\n",
              "      <th>3</th>\n",
              "      <td>4</td>\n",
              "      <td>8</td>\n",
              "    </tr>\n",
              "    <tr>\n",
              "      <th>4</th>\n",
              "      <td>5</td>\n",
              "      <td>3</td>\n",
              "    </tr>\n",
              "  </tbody>\n",
              "</table>\n",
              "</div>"
            ],
            "text/plain": [
              "   ImageId  Label\n",
              "0        1      2\n",
              "1        2      0\n",
              "2        3      9\n",
              "3        4      8\n",
              "4        5      3"
            ]
          },
          "metadata": {
            "tags": []
          },
          "execution_count": 20
        }
      ]
    },
    {
      "cell_type": "code",
      "metadata": {
        "id": "3wU3lcFuEbt3",
        "colab_type": "code",
        "colab": {}
      },
      "source": [
        "submission.to_csv('submission.csv', index=False)"
      ],
      "execution_count": 21,
      "outputs": []
    }
  ]
}