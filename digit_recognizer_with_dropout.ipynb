{
  "nbformat": 4,
  "nbformat_minor": 0,
  "metadata": {
    "colab": {
      "name": "digit-recognizer.ipynb",
      "provenance": [],
      "collapsed_sections": [],
      "mount_file_id": "1nvJfNfGP4tXBWRQwQIED0rW84aIrg3EW",
      "authorship_tag": "ABX9TyNgFS1AuNZWRVqav5Aa0kiV",
      "include_colab_link": true
    },
    "kernelspec": {
      "name": "python3",
      "display_name": "Python 3"
    }
  },
  "cells": [
    {
      "cell_type": "markdown",
      "metadata": {
        "id": "view-in-github",
        "colab_type": "text"
      },
      "source": [
        "<a href=\"https://colab.research.google.com/github/Ayush-Porwal/kaggle-digit-recognizer/blob/master/digit_recognizer_with_dropout.ipynb\" target=\"_parent\"><img src=\"https://colab.research.google.com/assets/colab-badge.svg\" alt=\"Open In Colab\"/></a>"
      ]
    },
    {
      "cell_type": "code",
      "metadata": {
        "id": "NQHt8yzVuMiC",
        "colab_type": "code",
        "colab": {
          "base_uri": "https://localhost:8080/",
          "height": 34
        },
        "outputId": "43a7537b-117d-4aa4-942c-8ae06ce1d42f"
      },
      "source": [
        "import matplotlib.pyplot as plt\n",
        "import tensorflow as tf\n",
        "import csv\n",
        "import numpy as np\n",
        "from keras.utils import np_utils\n",
        "from keras.preprocessing.image import ImageDataGenerator"
      ],
      "execution_count": 1,
      "outputs": [
        {
          "output_type": "stream",
          "text": [
            "Using TensorFlow backend.\n"
          ],
          "name": "stderr"
        }
      ]
    },
    {
      "cell_type": "code",
      "metadata": {
        "id": "PpAPB55Uv0O-",
        "colab_type": "code",
        "colab": {}
      },
      "source": [
        "train_file_path = '/content/drive/My Drive/Colab Notebooks/kaggle-datasets/digit-recognizer/train.csv'\n",
        "test_file_path = '/content/drive/My Drive/Colab Notebooks/kaggle-datasets/digit-recognizer/test.csv'"
      ],
      "execution_count": 2,
      "outputs": []
    },
    {
      "cell_type": "code",
      "metadata": {
        "id": "JCqj8b6YxeBX",
        "colab_type": "code",
        "colab": {}
      },
      "source": [
        "def get_train_test_data(train_file_path, test_file_path):\n",
        "  \n",
        "  with open(train_file_path) as train_file:\n",
        "    train_images = []\n",
        "    train_labels = []\n",
        "    \n",
        "    train_reader = csv.reader(train_file)\n",
        "    next(train_reader)\n",
        "    \n",
        "    for row in train_reader:\n",
        "      train_labels.append(row[0])\n",
        "      train_images.append(np.array(row[1:]).reshape(28,28))\n",
        "  \n",
        "  with open(test_file_path) as test_file:\n",
        "    test_images = []\n",
        "    test_labels = []\n",
        "\n",
        "    test_reader = csv.reader(test_file)\n",
        "    next(test_reader)\n",
        "\n",
        "    for row in test_reader:\n",
        "      test_images.append(np.array(row[0:]).reshape(28,28))\n",
        "  \n",
        "  return np.array(train_images).astype(float), np.array(train_labels).astype(float), np.array(test_images).astype(float)/255"
      ],
      "execution_count": 3,
      "outputs": []
    },
    {
      "cell_type": "code",
      "metadata": {
        "id": "MA8HyBdU_KMs",
        "colab_type": "code",
        "colab": {
          "base_uri": "https://localhost:8080/",
          "height": 68
        },
        "outputId": "6ee0078c-613d-4570-fd35-f9cba362cdcc"
      },
      "source": [
        "train_images, train_labels, test_images = get_train_test_data(train_file_path, test_file_path)\n",
        "\n",
        "train_labels = np_utils.to_categorical(train_labels)\n",
        "train_images = np.expand_dims(train_images, axis = 3)\n",
        "test_images = np.expand_dims(test_images, axis = 3)\n",
        "\n",
        "print(f'The shape of train_images is: {train_images.shape}')\n",
        "print(f'The shape of train_labels is: {train_labels.shape}')\n",
        "print(f'The shape of test_images is: {test_images.shape}')\n",
        "\n",
        "data_generator = ImageDataGenerator(\n",
        "    rescale = 1/255.0,\n",
        "    rotation_range = 10,\n",
        "    width_shift_range = 0.1,\n",
        "    height_shift_range = 0.1,\n",
        "    zoom_range = 0.1,\n",
        "    validation_split=0.1\n",
        ")"
      ],
      "execution_count": 4,
      "outputs": [
        {
          "output_type": "stream",
          "text": [
            "The shape of train_images is: (42000, 28, 28, 1)\n",
            "The shape of train_labels is: (42000, 10)\n",
            "The shape of test_images is: (28000, 28, 28, 1)\n"
          ],
          "name": "stdout"
        }
      ]
    },
    {
      "cell_type": "code",
      "metadata": {
        "id": "LRpfEeVnEGnc",
        "colab_type": "code",
        "colab": {
          "base_uri": "https://localhost:8080/",
          "height": 323
        },
        "outputId": "acf70535-1101-455f-a584-29bebdd69097"
      },
      "source": [
        "model = tf.keras.Sequential([\n",
        "    tf.keras.layers.Conv2D(64, (3,3), input_shape = (28,28,1), activation = 'relu'),\n",
        "    tf.keras.layers.Dropout(0.1),\n",
        "    tf.keras.layers.Flatten(),\n",
        "    tf.keras.layers.Dense(512, activation = 'relu'),\n",
        "    tf.keras.layers.Dense(10, activation = 'softmax')\n",
        "])\n",
        "\n",
        "# model = tf.keras.Sequential([\n",
        "#       tf.keras.layers.Flatten(input_shape = (28,28,1)),\n",
        "#       tf.keras.layers.Dense(1024, activation = 'relu'),\n",
        "#       tf.keras.layers.Dense(512, activation = 'relu'),\n",
        "#       tf.keras.layers.Dense(256, activation = 'relu'),\n",
        "#       tf.keras.layers.Dense(128, activation = 'relu'),\n",
        "#       tf.keras.layers.Dense(10, activation = 'softmax')\n",
        "# ])\n",
        "\n",
        "\n",
        "model.compile(optimizer = 'adam', loss = 'categorical_crossentropy', metrics = ['accuracy'])\n",
        "\n",
        "model.summary()"
      ],
      "execution_count": 5,
      "outputs": [
        {
          "output_type": "stream",
          "text": [
            "Model: \"sequential\"\n",
            "_________________________________________________________________\n",
            "Layer (type)                 Output Shape              Param #   \n",
            "=================================================================\n",
            "conv2d (Conv2D)              (None, 26, 26, 64)        640       \n",
            "_________________________________________________________________\n",
            "dropout (Dropout)            (None, 26, 26, 64)        0         \n",
            "_________________________________________________________________\n",
            "flatten (Flatten)            (None, 43264)             0         \n",
            "_________________________________________________________________\n",
            "dense (Dense)                (None, 512)               22151680  \n",
            "_________________________________________________________________\n",
            "dense_1 (Dense)              (None, 10)                5130      \n",
            "=================================================================\n",
            "Total params: 22,157,450\n",
            "Trainable params: 22,157,450\n",
            "Non-trainable params: 0\n",
            "_________________________________________________________________\n"
          ],
          "name": "stdout"
        }
      ]
    },
    {
      "cell_type": "code",
      "metadata": {
        "id": "eJH5ZVSeo4Q9",
        "colab_type": "code",
        "colab": {}
      },
      "source": [
        "class myCallback(tf.keras.callbacks.Callback):\n",
        "  def on_epoch_end(self, epoch, logs={}):\n",
        "    metric = logs.get('val_accuracy')\n",
        "    if(metric> 0.999):\n",
        "      print(f'\\n\\nThe validation accuracy is: {metric} which is greater then 0.999 hence stopping the training.\\n')\n",
        "      self.stop_training = True\n",
        "\n",
        "callbacks = myCallback()"
      ],
      "execution_count": 6,
      "outputs": []
    },
    {
      "cell_type": "code",
      "metadata": {
        "id": "FwEmB2TnF4Ry",
        "colab_type": "code",
        "colab": {
          "base_uri": "https://localhost:8080/",
          "height": 1000
        },
        "outputId": "d49cc8ad-453e-4637-f2b2-a062b117eadb"
      },
      "source": [
        "history = model.fit_generator(\n",
        "    data_generator.flow(train_images, train_labels, subset='training', batch_size=32),\n",
        "    validation_data = data_generator.flow(train_images, train_labels, subset='validation', batch_size=32),\n",
        "    epochs=50,\n",
        "    verbose=1,\n",
        "    callbacks = [callbacks]\n",
        ")"
      ],
      "execution_count": 7,
      "outputs": [
        {
          "output_type": "stream",
          "text": [
            "WARNING:tensorflow:From <ipython-input-7-8dedef7d6a13>:6: Model.fit_generator (from tensorflow.python.keras.engine.training) is deprecated and will be removed in a future version.\n",
            "Instructions for updating:\n",
            "Please use Model.fit, which supports generators.\n",
            "Epoch 1/50\n",
            "1182/1182 [==============================] - 277s 234ms/step - loss: 0.3008 - accuracy: 0.9052 - val_loss: 0.1678 - val_accuracy: 0.9507\n",
            "Epoch 2/50\n",
            "1182/1182 [==============================] - 277s 234ms/step - loss: 0.1338 - accuracy: 0.9583 - val_loss: 0.1163 - val_accuracy: 0.9614\n",
            "Epoch 3/50\n",
            "1182/1182 [==============================] - 280s 237ms/step - loss: 0.1029 - accuracy: 0.9685 - val_loss: 0.1011 - val_accuracy: 0.9686\n",
            "Epoch 4/50\n",
            "1182/1182 [==============================] - 277s 234ms/step - loss: 0.0906 - accuracy: 0.9728 - val_loss: 0.0768 - val_accuracy: 0.9745\n",
            "Epoch 5/50\n",
            "1182/1182 [==============================] - 280s 237ms/step - loss: 0.0761 - accuracy: 0.9767 - val_loss: 0.0794 - val_accuracy: 0.9752\n",
            "Epoch 6/50\n",
            "1182/1182 [==============================] - 277s 234ms/step - loss: 0.0730 - accuracy: 0.9774 - val_loss: 0.0802 - val_accuracy: 0.9755\n",
            "Epoch 7/50\n",
            "1182/1182 [==============================] - 279s 236ms/step - loss: 0.0669 - accuracy: 0.9792 - val_loss: 0.0802 - val_accuracy: 0.9769\n",
            "Epoch 8/50\n",
            "1182/1182 [==============================] - 277s 235ms/step - loss: 0.0609 - accuracy: 0.9807 - val_loss: 0.0667 - val_accuracy: 0.9798\n",
            "Epoch 9/50\n",
            "1182/1182 [==============================] - 279s 236ms/step - loss: 0.0610 - accuracy: 0.9812 - val_loss: 0.0633 - val_accuracy: 0.9805\n",
            "Epoch 10/50\n",
            "1182/1182 [==============================] - 278s 235ms/step - loss: 0.0561 - accuracy: 0.9835 - val_loss: 0.0644 - val_accuracy: 0.9817\n",
            "Epoch 11/50\n",
            "1182/1182 [==============================] - 280s 237ms/step - loss: 0.0550 - accuracy: 0.9832 - val_loss: 0.0570 - val_accuracy: 0.9810\n",
            "Epoch 12/50\n",
            "1182/1182 [==============================] - 277s 235ms/step - loss: 0.0514 - accuracy: 0.9843 - val_loss: 0.0491 - val_accuracy: 0.9845\n",
            "Epoch 13/50\n",
            "1182/1182 [==============================] - 276s 234ms/step - loss: 0.0463 - accuracy: 0.9855 - val_loss: 0.0585 - val_accuracy: 0.9838\n",
            "Epoch 14/50\n",
            "1182/1182 [==============================] - 278s 236ms/step - loss: 0.0486 - accuracy: 0.9848 - val_loss: 0.0592 - val_accuracy: 0.9826\n",
            "Epoch 15/50\n",
            "1182/1182 [==============================] - 277s 234ms/step - loss: 0.0458 - accuracy: 0.9864 - val_loss: 0.0501 - val_accuracy: 0.9833\n",
            "Epoch 16/50\n",
            "1182/1182 [==============================] - 279s 236ms/step - loss: 0.0462 - accuracy: 0.9854 - val_loss: 0.0594 - val_accuracy: 0.9829\n",
            "Epoch 17/50\n",
            "1182/1182 [==============================] - 277s 234ms/step - loss: 0.0466 - accuracy: 0.9860 - val_loss: 0.0609 - val_accuracy: 0.9829\n",
            "Epoch 18/50\n",
            "1182/1182 [==============================] - 279s 236ms/step - loss: 0.0428 - accuracy: 0.9874 - val_loss: 0.0581 - val_accuracy: 0.9845\n",
            "Epoch 19/50\n",
            "1182/1182 [==============================] - 276s 234ms/step - loss: 0.0423 - accuracy: 0.9869 - val_loss: 0.0648 - val_accuracy: 0.9802\n",
            "Epoch 20/50\n",
            "1182/1182 [==============================] - 278s 235ms/step - loss: 0.0421 - accuracy: 0.9866 - val_loss: 0.0625 - val_accuracy: 0.9802\n",
            "Epoch 21/50\n",
            "1182/1182 [==============================] - 277s 234ms/step - loss: 0.0394 - accuracy: 0.9871 - val_loss: 0.0503 - val_accuracy: 0.9862\n",
            "Epoch 22/50\n",
            "1182/1182 [==============================] - 279s 236ms/step - loss: 0.0395 - accuracy: 0.9882 - val_loss: 0.0457 - val_accuracy: 0.9843\n",
            "Epoch 23/50\n",
            "1182/1182 [==============================] - 277s 234ms/step - loss: 0.0368 - accuracy: 0.9885 - val_loss: 0.0494 - val_accuracy: 0.9850\n",
            "Epoch 24/50\n",
            "1182/1182 [==============================] - 278s 235ms/step - loss: 0.0356 - accuracy: 0.9890 - val_loss: 0.0452 - val_accuracy: 0.9862\n",
            "Epoch 25/50\n",
            "1182/1182 [==============================] - 279s 236ms/step - loss: 0.0369 - accuracy: 0.9883 - val_loss: 0.0505 - val_accuracy: 0.9855\n",
            "Epoch 26/50\n",
            "1182/1182 [==============================] - 276s 234ms/step - loss: 0.0371 - accuracy: 0.9883 - val_loss: 0.0444 - val_accuracy: 0.9857\n",
            "Epoch 27/50\n",
            "1182/1182 [==============================] - 279s 236ms/step - loss: 0.0334 - accuracy: 0.9894 - val_loss: 0.0527 - val_accuracy: 0.9840\n",
            "Epoch 28/50\n",
            "1182/1182 [==============================] - 277s 235ms/step - loss: 0.0343 - accuracy: 0.9896 - val_loss: 0.0542 - val_accuracy: 0.9848\n",
            "Epoch 29/50\n",
            "1182/1182 [==============================] - 279s 236ms/step - loss: 0.0354 - accuracy: 0.9892 - val_loss: 0.0525 - val_accuracy: 0.9840\n",
            "Epoch 30/50\n",
            "1182/1182 [==============================] - 276s 234ms/step - loss: 0.0326 - accuracy: 0.9900 - val_loss: 0.0548 - val_accuracy: 0.9857\n",
            "Epoch 31/50\n",
            "1182/1182 [==============================] - 279s 236ms/step - loss: 0.0322 - accuracy: 0.9897 - val_loss: 0.0508 - val_accuracy: 0.9826\n",
            "Epoch 32/50\n",
            "1182/1182 [==============================] - 277s 234ms/step - loss: 0.0312 - accuracy: 0.9902 - val_loss: 0.0522 - val_accuracy: 0.9850\n",
            "Epoch 33/50\n",
            "1182/1182 [==============================] - 279s 236ms/step - loss: 0.0351 - accuracy: 0.9887 - val_loss: 0.0518 - val_accuracy: 0.9869\n",
            "Epoch 34/50\n",
            "1182/1182 [==============================] - 277s 235ms/step - loss: 0.0311 - accuracy: 0.9911 - val_loss: 0.0427 - val_accuracy: 0.9881\n",
            "Epoch 35/50\n",
            "1182/1182 [==============================] - 278s 235ms/step - loss: 0.0300 - accuracy: 0.9908 - val_loss: 0.0497 - val_accuracy: 0.9855\n",
            "Epoch 36/50\n",
            "1182/1182 [==============================] - 279s 236ms/step - loss: 0.0317 - accuracy: 0.9909 - val_loss: 0.0398 - val_accuracy: 0.9898\n",
            "Epoch 37/50\n",
            "1182/1182 [==============================] - 277s 234ms/step - loss: 0.0309 - accuracy: 0.9904 - val_loss: 0.0378 - val_accuracy: 0.9879\n",
            "Epoch 38/50\n",
            "1182/1182 [==============================] - 279s 236ms/step - loss: 0.0288 - accuracy: 0.9913 - val_loss: 0.0471 - val_accuracy: 0.9864\n",
            "Epoch 39/50\n",
            "1182/1182 [==============================] - 277s 234ms/step - loss: 0.0287 - accuracy: 0.9911 - val_loss: 0.0391 - val_accuracy: 0.9886\n",
            "Epoch 40/50\n",
            "1182/1182 [==============================] - 280s 237ms/step - loss: 0.0308 - accuracy: 0.9906 - val_loss: 0.0465 - val_accuracy: 0.9867\n",
            "Epoch 41/50\n",
            "1182/1182 [==============================] - 278s 235ms/step - loss: 0.0276 - accuracy: 0.9915 - val_loss: 0.0610 - val_accuracy: 0.9831\n",
            "Epoch 42/50\n",
            "1182/1182 [==============================] - 280s 237ms/step - loss: 0.0291 - accuracy: 0.9903 - val_loss: 0.0410 - val_accuracy: 0.9860\n",
            "Epoch 43/50\n",
            "1182/1182 [==============================] - 277s 235ms/step - loss: 0.0263 - accuracy: 0.9922 - val_loss: 0.0478 - val_accuracy: 0.9867\n",
            "Epoch 44/50\n",
            "1182/1182 [==============================] - 279s 236ms/step - loss: 0.0276 - accuracy: 0.9922 - val_loss: 0.0516 - val_accuracy: 0.9860\n",
            "Epoch 45/50\n",
            "1182/1182 [==============================] - 276s 234ms/step - loss: 0.0264 - accuracy: 0.9916 - val_loss: 0.0409 - val_accuracy: 0.9883\n",
            "Epoch 46/50\n",
            "1182/1182 [==============================] - 279s 236ms/step - loss: 0.0276 - accuracy: 0.9913 - val_loss: 0.0494 - val_accuracy: 0.9862\n",
            "Epoch 47/50\n",
            "1182/1182 [==============================] - 277s 234ms/step - loss: 0.0267 - accuracy: 0.9918 - val_loss: 0.0498 - val_accuracy: 0.9836\n",
            "Epoch 48/50\n",
            "1182/1182 [==============================] - 277s 235ms/step - loss: 0.0257 - accuracy: 0.9922 - val_loss: 0.0467 - val_accuracy: 0.9881\n",
            "Epoch 49/50\n",
            "1182/1182 [==============================] - 280s 237ms/step - loss: 0.0254 - accuracy: 0.9926 - val_loss: 0.0490 - val_accuracy: 0.9850\n",
            "Epoch 50/50\n",
            "1182/1182 [==============================] - 277s 234ms/step - loss: 0.0277 - accuracy: 0.9921 - val_loss: 0.0478 - val_accuracy: 0.9862\n"
          ],
          "name": "stdout"
        }
      ]
    },
    {
      "cell_type": "code",
      "metadata": {
        "id": "9wGO00-UxEoe",
        "colab_type": "code",
        "colab": {
          "base_uri": "https://localhost:8080/",
          "height": 558
        },
        "outputId": "a1517651-607d-4ed1-f399-316f0cea786c"
      },
      "source": [
        "train_loss = history.history['loss']\n",
        "train_acc = history.history['accuracy']\n",
        "val_loss = history.history['val_loss']\n",
        "val_acc = history.history['val_accuracy']\n",
        "\n",
        "plt.figure()\n",
        "plt.plot(range(len(train_loss)), train_loss, '-', label = 'train-loss')\n",
        "plt.plot(range(len(val_loss)), val_loss, '-', label = 'validation-loss')\n",
        "plt.legend()\n",
        "plt.xlabel('Epochs')\n",
        "plt.ylabel('Loss')\n",
        "\n",
        "plt.figure()\n",
        "plt.plot(range(len(train_acc)), train_acc, '-', label = 'train-acc')\n",
        "plt.plot(range(len(val_acc)), val_acc, '-', label = 'validation-acc')\n",
        "plt.legend()\n",
        "plt.xlabel('Epochs')\n",
        "plt.ylabel('Accuracy')"
      ],
      "execution_count": 8,
      "outputs": [
        {
          "output_type": "execute_result",
          "data": {
            "text/plain": [
              "Text(0, 0.5, 'Accuracy')"
            ]
          },
          "metadata": {
            "tags": []
          },
          "execution_count": 8
        },
        {
          "output_type": "display_data",
          "data": {
            "image/png": "[encoded data removed]",
            "text/plain": [
              "<Figure size 432x288 with 1 Axes>"
            ]
          },
          "metadata": {
            "tags": [],
            "needs_background": "light"
          }
        },
        {
          "output_type": "display_data",
          "data": {
            "image/png": "[encoded data removed]",
            "text/plain": [
              "<Figure size 432x288 with 1 Axes>"
            ]
          },
          "metadata": {
            "tags": [],
            "needs_background": "light"
          }
        }
      ]
    },
    {
      "cell_type": "code",
      "metadata": {
        "id": "GdfDkpKVxch6",
        "colab_type": "code",
        "colab": {
          "base_uri": "https://localhost:8080/",
          "height": 204
        },
        "outputId": "aa7e4791-f91b-4ca2-88f4-8114245519a1"
      },
      "source": [
        "import pandas as pd\n",
        "results = model.predict(test_images)\n",
        "results = np.argmax(results, axis = 1)\n",
        "\n",
        "results = pd.Series(results, name = 'Label')\n",
        "submission = pd.concat([pd.Series(range(1,28001), name = 'ImageId'), results], axis = 1)\n",
        "submission.head()"
      ],
      "execution_count": 9,
      "outputs": [
        {
          "output_type": "execute_result",
          "data": {
            "text/html": [
              "<div>\n",
              "<style scoped>\n",
              "    .dataframe tbody tr th:only-of-type {\n",
              "        vertical-align: middle;\n",
              "    }\n",
              "\n",
              "    .dataframe tbody tr th {\n",
              "        vertical-align: top;\n",
              "    }\n",
              "\n",
              "    .dataframe thead th {\n",
              "        text-align: right;\n",
              "    }\n",
              "</style>\n",
              "<table border=\"1\" class=\"dataframe\">\n",
              "  <thead>\n",
              "    <tr style=\"text-align: right;\">\n",
              "      <th></th>\n",
              "      <th>ImageId</th>\n",
              "      <th>Label</th>\n",
              "    </tr>\n",
              "  </thead>\n",
              "  <tbody>\n",
              "    <tr>\n",
              "      <th>0</th>\n",
              "      <td>1</td>\n",
              "      <td>2</td>\n",
              "    </tr>\n",
              "    <tr>\n",
              "      <th>1</th>\n",
              "      <td>2</td>\n",
              "      <td>0</td>\n",
              "    </tr>\n",
              "    <tr>\n",
              "      <th>2</th>\n",
              "      <td>3</td>\n",
              "      <td>9</td>\n",
              "    </tr>\n",
              "    <tr>\n",
              "      <th>3</th>\n",
              "      <td>4</td>\n",
              "      <td>9</td>\n",
              "    </tr>\n",
              "    <tr>\n",
              "      <th>4</th>\n",
              "      <td>5</td>\n",
              "      <td>3</td>\n",
              "    </tr>\n",
              "  </tbody>\n",
              "</table>\n",
              "</div>"
            ],
            "text/plain": [
              "   ImageId  Label\n",
              "0        1      2\n",
              "1        2      0\n",
              "2        3      9\n",
              "3        4      9\n",
              "4        5      3"
            ]
          },
          "metadata": {
            "tags": []
          },
          "execution_count": 9
        }
      ]
    },
    {
      "cell_type": "code",
      "metadata": {
        "id": "3wU3lcFuEbt3",
        "colab_type": "code",
        "colab": {}
      },
      "source": [
        "submission.to_csv('submission.csv', index=False)"
      ],
      "execution_count": 10,
      "outputs": []
    }
  ]
}