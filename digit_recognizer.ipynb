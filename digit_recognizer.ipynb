{
  "nbformat": 4,
  "nbformat_minor": 0,
  "metadata": {
    "colab": {
      "name": "digit-recognizer.ipynb",
      "provenance": [],
      "mount_file_id": "1nvJfNfGP4tXBWRQwQIED0rW84aIrg3EW",
      "authorship_tag": "ABX9TyP4whTp+YTmEnl9GbUiFK09",
      "include_colab_link": true
    },
    "kernelspec": {
      "name": "python3",
      "display_name": "Python 3"
    }
  },
  "cells": [
    {
      "cell_type": "markdown",
      "metadata": {
        "id": "view-in-github",
        "colab_type": "text"
      },
      "source": [
        "<a href=\"https://colab.research.google.com/github/Ayush-Porwal/kaggle-digit-recognizer/blob/master/digit_recognizer.ipynb\" target=\"_parent\"><img src=\"https://colab.research.google.com/assets/colab-badge.svg\" alt=\"Open In Colab\"/></a>"
      ]
    },
    {
      "cell_type": "code",
      "metadata": {
        "id": "NQHt8yzVuMiC",
        "colab_type": "code",
        "colab": {}
      },
      "source": [
        "import matplotlib.pyplot as plt\n",
        "import tensorflow as tf\n",
        "import csv\n",
        "import numpy as np\n",
        "from keras.utils import np_utils"
      ],
      "execution_count": 17,
      "outputs": []
    },
    {
      "cell_type": "code",
      "metadata": {
        "id": "PpAPB55Uv0O-",
        "colab_type": "code",
        "colab": {}
      },
      "source": [
        "train_file_path = '/content/drive/My Drive/Colab Notebooks/kaggle-datasets/digit-recognizer/train.csv'\n",
        "test_file_path = '/content/drive/My Drive/Colab Notebooks/kaggle-datasets/digit-recognizer/test.csv'"
      ],
      "execution_count": 18,
      "outputs": []
    },
    {
      "cell_type": "code",
      "metadata": {
        "id": "JCqj8b6YxeBX",
        "colab_type": "code",
        "colab": {}
      },
      "source": [
        "def get_train_test_data(train_file_path, test_file_path):\n",
        "  \n",
        "  with open(train_file_path) as train_file:\n",
        "    train_images = []\n",
        "    train_labels = []\n",
        "    \n",
        "    train_reader = csv.reader(train_file)\n",
        "    next(train_reader)\n",
        "    \n",
        "    for row in train_reader:\n",
        "      train_labels.append(row[0])\n",
        "      train_images.append(np.array(row[1:]).reshape(28,28))\n",
        "  \n",
        "  with open(test_file_path) as test_file:\n",
        "    test_images = []\n",
        "    test_labels = []\n",
        "\n",
        "    test_reader = csv.reader(test_file)\n",
        "    next(test_reader)\n",
        "\n",
        "    for row in test_reader:\n",
        "      test_images.append(np.array(row[0:]).reshape(28,28))\n",
        "  \n",
        "  return np.array(train_images).astype(float)/255, np.array(train_labels).astype(float), np.array(test_images).astype(float)/255"
      ],
      "execution_count": 19,
      "outputs": []
    },
    {
      "cell_type": "code",
      "metadata": {
        "id": "MA8HyBdU_KMs",
        "colab_type": "code",
        "colab": {
          "base_uri": "https://localhost:8080/",
          "height": 68
        },
        "outputId": "3fca0fba-aafe-4e1e-b6fe-af83098fcbe2"
      },
      "source": [
        "train_images, train_labels, test_images = get_train_test_data(train_file_path, test_file_path)\n",
        "train_labels = np_utils.to_categorical(train_labels)\n",
        "train_images = np.expand_dims(train_images, axis = 3)\n",
        "test_images = np.expand_dims(test_images, axis = 3)\n",
        "\n",
        "print(f'The shape of train_images is: {train_images.shape}')\n",
        "print(f'The shape of train_labels is: {train_labels.shape}')\n",
        "print(f'The shape of test_images is: {test_images.shape}')"
      ],
      "execution_count": 20,
      "outputs": [
        {
          "output_type": "stream",
          "text": [
            "The shape of train_images is: (42000, 28, 28, 1)\n",
            "The shape of train_labels is: (42000, 10)\n",
            "The shape of test_images is: (28000, 28, 28, 1)\n"
          ],
          "name": "stdout"
        }
      ]
    },
    {
      "cell_type": "code",
      "metadata": {
        "id": "LRpfEeVnEGnc",
        "colab_type": "code",
        "colab": {
          "base_uri": "https://localhost:8080/",
          "height": 391
        },
        "outputId": "42d63316-2296-4bd0-b6f2-c9ea8f900212"
      },
      "source": [
        "model = tf.keras.Sequential([\n",
        "    tf.keras.layers.Conv2D(32, (3,3), input_shape = (28,28,1), activation = 'relu'),\n",
        "    tf.keras.layers.MaxPooling2D(2,2),\n",
        "    tf.keras.layers.Conv2D(16, (3,3), activation = 'relu'),\n",
        "    tf.keras.layers.MaxPooling2D(2,2),\n",
        "    tf.keras.layers.Flatten(),\n",
        "    tf.keras.layers.Dense(64, activation = 'relu'),\n",
        "    tf.keras.layers.Dense(10, activation = 'softmax')\n",
        "])\n",
        "\n",
        "model.compile(optimizer = 'adam', loss = 'categorical_crossentropy', metrics = ['accuracy'])\n",
        "\n",
        "model.summary()"
      ],
      "execution_count": 21,
      "outputs": [
        {
          "output_type": "stream",
          "text": [
            "Model: \"sequential_1\"\n",
            "_________________________________________________________________\n",
            "Layer (type)                 Output Shape              Param #   \n",
            "=================================================================\n",
            "conv2d_2 (Conv2D)            (None, 26, 26, 32)        320       \n",
            "_________________________________________________________________\n",
            "max_pooling2d_2 (MaxPooling2 (None, 13, 13, 32)        0         \n",
            "_________________________________________________________________\n",
            "conv2d_3 (Conv2D)            (None, 11, 11, 16)        4624      \n",
            "_________________________________________________________________\n",
            "max_pooling2d_3 (MaxPooling2 (None, 5, 5, 16)          0         \n",
            "_________________________________________________________________\n",
            "flatten_1 (Flatten)          (None, 400)               0         \n",
            "_________________________________________________________________\n",
            "dense_2 (Dense)              (None, 64)                25664     \n",
            "_________________________________________________________________\n",
            "dense_3 (Dense)              (None, 10)                650       \n",
            "=================================================================\n",
            "Total params: 31,258\n",
            "Trainable params: 31,258\n",
            "Non-trainable params: 0\n",
            "_________________________________________________________________\n"
          ],
          "name": "stdout"
        }
      ]
    },
    {
      "cell_type": "code",
      "metadata": {
        "id": "FwEmB2TnF4Ry",
        "colab_type": "code",
        "colab": {
          "base_uri": "https://localhost:8080/",
          "height": 1000
        },
        "outputId": "46a9360e-25c6-4f7d-ab4c-fb632ea3d23f"
      },
      "source": [
        "history = model.fit(train_images, train_labels, epochs = 30, validation_split = 0.1, verbose = 1)"
      ],
      "execution_count": 28,
      "outputs": [
        {
          "output_type": "stream",
          "text": [
            "Epoch 1/30\n",
            "1182/1182 [==============================] - 25s 21ms/step - loss: 0.0050 - accuracy: 0.9981 - val_loss: 0.0644 - val_accuracy: 0.9876\n",
            "Epoch 2/30\n",
            "1182/1182 [==============================] - 25s 21ms/step - loss: 0.0064 - accuracy: 0.9976 - val_loss: 0.0755 - val_accuracy: 0.9881\n",
            "Epoch 3/30\n",
            "1182/1182 [==============================] - 28s 24ms/step - loss: 0.0043 - accuracy: 0.9985 - val_loss: 0.0678 - val_accuracy: 0.9888\n",
            "Epoch 4/30\n",
            "1182/1182 [==============================] - 25s 21ms/step - loss: 0.0030 - accuracy: 0.9990 - val_loss: 0.0625 - val_accuracy: 0.9895\n",
            "Epoch 5/30\n",
            "1182/1182 [==============================] - 25s 21ms/step - loss: 0.0031 - accuracy: 0.9990 - val_loss: 0.0788 - val_accuracy: 0.9869\n",
            "Epoch 6/30\n",
            "1182/1182 [==============================] - 25s 21ms/step - loss: 0.0054 - accuracy: 0.9981 - val_loss: 0.0584 - val_accuracy: 0.9883\n",
            "Epoch 7/30\n",
            "1182/1182 [==============================] - 25s 21ms/step - loss: 0.0034 - accuracy: 0.9989 - val_loss: 0.0819 - val_accuracy: 0.9871\n",
            "Epoch 8/30\n",
            "1182/1182 [==============================] - 25s 21ms/step - loss: 0.0036 - accuracy: 0.9987 - val_loss: 0.0768 - val_accuracy: 0.9876\n",
            "Epoch 9/30\n",
            "1182/1182 [==============================] - 26s 22ms/step - loss: 0.0042 - accuracy: 0.9985 - val_loss: 0.0642 - val_accuracy: 0.9883\n",
            "Epoch 10/30\n",
            "1182/1182 [==============================] - 25s 21ms/step - loss: 0.0024 - accuracy: 0.9991 - val_loss: 0.0945 - val_accuracy: 0.9871\n",
            "Epoch 11/30\n",
            "1182/1182 [==============================] - 25s 21ms/step - loss: 0.0044 - accuracy: 0.9986 - val_loss: 0.0781 - val_accuracy: 0.9879\n",
            "Epoch 12/30\n",
            "1182/1182 [==============================] - 25s 21ms/step - loss: 0.0021 - accuracy: 0.9993 - val_loss: 0.1123 - val_accuracy: 0.9848\n",
            "Epoch 13/30\n",
            "1182/1182 [==============================] - 25s 21ms/step - loss: 0.0036 - accuracy: 0.9990 - val_loss: 0.0887 - val_accuracy: 0.9869\n",
            "Epoch 14/30\n",
            "1182/1182 [==============================] - 25s 21ms/step - loss: 0.0029 - accuracy: 0.9990 - val_loss: 0.0777 - val_accuracy: 0.9893\n",
            "Epoch 15/30\n",
            "1182/1182 [==============================] - 25s 21ms/step - loss: 0.0011 - accuracy: 0.9997 - val_loss: 0.0834 - val_accuracy: 0.9900\n",
            "Epoch 16/30\n",
            "1182/1182 [==============================] - 25s 21ms/step - loss: 0.0054 - accuracy: 0.9984 - val_loss: 0.0857 - val_accuracy: 0.9881\n",
            "Epoch 17/30\n",
            "1182/1182 [==============================] - 25s 21ms/step - loss: 0.0023 - accuracy: 0.9993 - val_loss: 0.0744 - val_accuracy: 0.9895\n",
            "Epoch 18/30\n",
            "1182/1182 [==============================] - 25s 21ms/step - loss: 0.0017 - accuracy: 0.9993 - val_loss: 0.1230 - val_accuracy: 0.9862\n",
            "Epoch 19/30\n",
            "1182/1182 [==============================] - 25s 21ms/step - loss: 0.0031 - accuracy: 0.9991 - val_loss: 0.0739 - val_accuracy: 0.9898\n",
            "Epoch 20/30\n",
            "1182/1182 [==============================] - 25s 21ms/step - loss: 0.0023 - accuracy: 0.9994 - val_loss: 0.0931 - val_accuracy: 0.9883\n",
            "Epoch 21/30\n",
            "1182/1182 [==============================] - 25s 21ms/step - loss: 0.0036 - accuracy: 0.9987 - val_loss: 0.1165 - val_accuracy: 0.9850\n",
            "Epoch 22/30\n",
            "1182/1182 [==============================] - 25s 21ms/step - loss: 0.0027 - accuracy: 0.9993 - val_loss: 0.0895 - val_accuracy: 0.9893\n",
            "Epoch 23/30\n",
            "1182/1182 [==============================] - 25s 21ms/step - loss: 3.0941e-04 - accuracy: 0.9999 - val_loss: 0.0816 - val_accuracy: 0.9898\n",
            "Epoch 24/30\n",
            "1182/1182 [==============================] - 25s 21ms/step - loss: 0.0058 - accuracy: 0.9984 - val_loss: 0.0772 - val_accuracy: 0.9890\n",
            "Epoch 25/30\n",
            "1182/1182 [==============================] - 25s 21ms/step - loss: 0.0024 - accuracy: 0.9993 - val_loss: 0.0803 - val_accuracy: 0.9879\n",
            "Epoch 26/30\n",
            "1182/1182 [==============================] - 25s 21ms/step - loss: 0.0026 - accuracy: 0.9990 - val_loss: 0.0814 - val_accuracy: 0.9893\n",
            "Epoch 27/30\n",
            "1182/1182 [==============================] - 28s 23ms/step - loss: 0.0025 - accuracy: 0.9993 - val_loss: 0.0888 - val_accuracy: 0.9881\n",
            "Epoch 28/30\n",
            "1182/1182 [==============================] - 25s 21ms/step - loss: 0.0018 - accuracy: 0.9994 - val_loss: 0.1044 - val_accuracy: 0.9871\n",
            "Epoch 29/30\n",
            "1182/1182 [==============================] - 25s 21ms/step - loss: 0.0030 - accuracy: 0.9992 - val_loss: 0.0793 - val_accuracy: 0.9910\n",
            "Epoch 30/30\n",
            "1182/1182 [==============================] - 25s 21ms/step - loss: 0.0018 - accuracy: 0.9994 - val_loss: 0.1185 - val_accuracy: 0.9874\n"
          ],
          "name": "stdout"
        }
      ]
    },
    {
      "cell_type": "code",
      "metadata": {
        "id": "9wGO00-UxEoe",
        "colab_type": "code",
        "colab": {
          "base_uri": "https://localhost:8080/",
          "height": 560
        },
        "outputId": "1c7ea3dc-21fd-4363-f864-b0382690270a"
      },
      "source": [
        "train_loss = history.history['loss']\n",
        "train_acc = history.history['accuracy']\n",
        "val_loss = history.history['val_loss']\n",
        "val_acc = history.history['val_accuracy']\n",
        "\n",
        "plt.figure()\n",
        "plt.plot(train_loss, range(len(train_loss)), '-', label = 'train-loss')\n",
        "plt.plot(val_loss, range(len(val_loss)), '-', label = 'validation-loss')\n",
        "plt.legend()\n",
        "plt.xlabel('Epochs')\n",
        "plt.ylabel('Loss')\n",
        "\n",
        "plt.figure()\n",
        "plt.plot(train_acc, range(len(train_acc)), '-', label = 'train-acc')\n",
        "plt.plot(val_acc, range(len(val_acc)), '-', label = 'validation-acc')\n",
        "plt.legend()\n",
        "plt.xlabel('Epochs')\n",
        "plt.ylabel('Accuracy')"
      ],
      "execution_count": 32,
      "outputs": [
        {
          "output_type": "execute_result",
          "data": {
            "text/plain": [
              "Text(0, 0.5, 'Accuracy')"
            ]
          },
          "metadata": {
            "tags": []
          },
          "execution_count": 32
        },
        {
          "output_type": "display_data",
          "data": {
            "image/png": "[encoded data removed]",
            "text/plain": [
              "<Figure size 432x288 with 1 Axes>"
            ]
          },
          "metadata": {
            "tags": [],
            "needs_background": "light"
          }
        },
        {
          "output_type": "display_data",
          "data": {
            "image/png": "[encoded data removed]",
            "text/plain": [
              "<Figure size 432x288 with 1 Axes>"
            ]
          },
          "metadata": {
            "tags": [],
            "needs_background": "light"
          }
        }
      ]
    },
    {
      "cell_type": "code",
      "metadata": {
        "id": "GdfDkpKVxch6",
        "colab_type": "code",
        "colab": {
          "base_uri": "https://localhost:8080/",
          "height": 204
        },
        "outputId": "bbbb0e6e-29b2-4b22-e396-d99fe4dab275"
      },
      "source": [
        "import pandas as pd\n",
        "results = model.predict(test_images)\n",
        "results = np.argmax(results, axis = 1)\n",
        "\n",
        "results = pd.Series(results, name = 'Label')\n",
        "submission = pd.concat([pd.Series(range(1,28001), name = 'ImageId'), results], axis = 1)\n",
        "submission.head()"
      ],
      "execution_count": 33,
      "outputs": [
        {
          "output_type": "execute_result",
          "data": {
            "text/html": [
              "<div>\n",
              "<style scoped>\n",
              "    .dataframe tbody tr th:only-of-type {\n",
              "        vertical-align: middle;\n",
              "    }\n",
              "\n",
              "    .dataframe tbody tr th {\n",
              "        vertical-align: top;\n",
              "    }\n",
              "\n",
              "    .dataframe thead th {\n",
              "        text-align: right;\n",
              "    }\n",
              "</style>\n",
              "<table border=\"1\" class=\"dataframe\">\n",
              "  <thead>\n",
              "    <tr style=\"text-align: right;\">\n",
              "      <th></th>\n",
              "      <th>ImageId</th>\n",
              "      <th>Label</th>\n",
              "    </tr>\n",
              "  </thead>\n",
              "  <tbody>\n",
              "    <tr>\n",
              "      <th>0</th>\n",
              "      <td>1</td>\n",
              "      <td>2</td>\n",
              "    </tr>\n",
              "    <tr>\n",
              "      <th>1</th>\n",
              "      <td>2</td>\n",
              "      <td>0</td>\n",
              "    </tr>\n",
              "    <tr>\n",
              "      <th>2</th>\n",
              "      <td>3</td>\n",
              "      <td>9</td>\n",
              "    </tr>\n",
              "    <tr>\n",
              "      <th>3</th>\n",
              "      <td>4</td>\n",
              "      <td>0</td>\n",
              "    </tr>\n",
              "    <tr>\n",
              "      <th>4</th>\n",
              "      <td>5</td>\n",
              "      <td>3</td>\n",
              "    </tr>\n",
              "  </tbody>\n",
              "</table>\n",
              "</div>"
            ],
            "text/plain": [
              "   ImageId  Label\n",
              "0        1      2\n",
              "1        2      0\n",
              "2        3      9\n",
              "3        4      0\n",
              "4        5      3"
            ]
          },
          "metadata": {
            "tags": []
          },
          "execution_count": 33
        }
      ]
    },
    {
      "cell_type": "code",
      "metadata": {
        "id": "QFm5QEXxaKJA",
        "colab_type": "code",
        "colab": {
          "base_uri": "https://localhost:8080/",
          "height": 34
        },
        "outputId": "33969714-ae9b-4b17-f42c-bf5a48c7b257"
      },
      "source": [
        ""
      ],
      "execution_count": 30,
      "outputs": [
        {
          "output_type": "stream",
          "text": [
            "30\n"
          ],
          "name": "stdout"
        }
      ]
    },
    {
      "cell_type": "code",
      "metadata": {
        "id": "3wU3lcFuEbt3",
        "colab_type": "code",
        "colab": {}
      },
      "source": [
        "submission.to_csv('submission.csv', index=False)"
      ],
      "execution_count": 34,
      "outputs": []
    },
    {
      "cell_type": "code",
      "metadata": {
        "id": "GaOzULNTUP0v",
        "colab_type": "code",
        "colab": {}
      },
      "source": [
        ""
      ],
      "execution_count": null,
      "outputs": []
    }
  ]
}