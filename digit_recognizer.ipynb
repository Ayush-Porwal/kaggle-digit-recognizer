{
  "nbformat": 4,
  "nbformat_minor": 0,
  "metadata": {
    "colab": {
      "name": "digit-recognizer.ipynb",
      "provenance": [],
      "mount_file_id": "1nvJfNfGP4tXBWRQwQIED0rW84aIrg3EW",
      "authorship_tag": "ABX9TyMXFPcMMkyHPpMajNwnXH+R",
      "include_colab_link": true
    },
    "kernelspec": {
      "name": "python3",
      "display_name": "Python 3"
    }
  },
  "cells": [
    {
      "cell_type": "markdown",
      "metadata": {
        "id": "view-in-github",
        "colab_type": "text"
      },
      "source": [
        "<a href=\"https://colab.research.google.com/github/Ayush-Porwal/kaggle-digit-recognizer/blob/master/digit_recognizer.ipynb\" target=\"_parent\"><img src=\"https://colab.research.google.com/assets/colab-badge.svg\" alt=\"Open In Colab\"/></a>"
      ]
    },
    {
      "cell_type": "code",
      "metadata": {
        "id": "NQHt8yzVuMiC",
        "colab_type": "code",
        "colab": {}
      },
      "source": [
        "import matplotlib.pyplot as plt\n",
        "import tensorflow as tf\n",
        "import csv\n",
        "import numpy as np\n",
        "from keras.utils import np_utils"
      ],
      "execution_count": 17,
      "outputs": []
    },
    {
      "cell_type": "code",
      "metadata": {
        "id": "PpAPB55Uv0O-",
        "colab_type": "code",
        "colab": {}
      },
      "source": [
        "train_file_path = '/content/drive/My Drive/Colab Notebooks/kaggle-datasets/digit-recognizer/train.csv'\n",
        "test_file_path = '/content/drive/My Drive/Colab Notebooks/kaggle-datasets/digit-recognizer/test.csv'"
      ],
      "execution_count": 18,
      "outputs": []
    },
    {
      "cell_type": "code",
      "metadata": {
        "id": "JCqj8b6YxeBX",
        "colab_type": "code",
        "colab": {}
      },
      "source": [
        "def get_train_test_data(train_file_path, test_file_path):\n",
        "  \n",
        "  with open(train_file_path) as train_file:\n",
        "    train_images = []\n",
        "    train_labels = []\n",
        "    \n",
        "    train_reader = csv.reader(train_file)\n",
        "    next(train_reader)\n",
        "    \n",
        "    for row in train_reader:\n",
        "      train_labels.append(row[0])\n",
        "      train_images.append(np.array(row[1:]).reshape(28,28))\n",
        "  \n",
        "  with open(test_file_path) as test_file:\n",
        "    test_images = []\n",
        "    test_labels = []\n",
        "\n",
        "    test_reader = csv.reader(test_file)\n",
        "    next(test_reader)\n",
        "\n",
        "    for row in test_reader:\n",
        "      test_images.append(np.array(row[0:]).reshape(28,28))\n",
        "  \n",
        "  return np.array(train_images).astype(float)/255, np.array(train_labels).astype(float), np.array(test_images).astype(float)/255"
      ],
      "execution_count": 19,
      "outputs": []
    },
    {
      "cell_type": "code",
      "metadata": {
        "id": "MA8HyBdU_KMs",
        "colab_type": "code",
        "colab": {
          "base_uri": "https://localhost:8080/",
          "height": 68
        },
        "outputId": "3fca0fba-aafe-4e1e-b6fe-af83098fcbe2"
      },
      "source": [
        "train_images, train_labels, test_images = get_train_test_data(train_file_path, test_file_path)\n",
        "train_labels = np_utils.to_categorical(train_labels)\n",
        "train_images = np.expand_dims(train_images, axis = 3)\n",
        "test_images = np.expand_dims(test_images, axis = 3)\n",
        "\n",
        "print(f'The shape of train_images is: {train_images.shape}')\n",
        "print(f'The shape of train_labels is: {train_labels.shape}')\n",
        "print(f'The shape of test_images is: {test_images.shape}')"
      ],
      "execution_count": 20,
      "outputs": [
        {
          "output_type": "stream",
          "text": [
            "The shape of train_images is: (42000, 28, 28, 1)\n",
            "The shape of train_labels is: (42000, 10)\n",
            "The shape of test_images is: (28000, 28, 28, 1)\n"
          ],
          "name": "stdout"
        }
      ]
    },
    {
      "cell_type": "code",
      "metadata": {
        "id": "LRpfEeVnEGnc",
        "colab_type": "code",
        "colab": {
          "base_uri": "https://localhost:8080/",
          "height": 323
        },
        "outputId": "06f2b54d-29e2-4d62-a75c-69b92a5323dd"
      },
      "source": [
        "model = tf.keras.Sequential([\n",
        "    tf.keras.layers.Conv2D(32, (3,3), input_shape = (28,28,1), activation = 'relu'),\n",
        "    tf.keras.layers.MaxPooling2D(2,2),\n",
        "    tf.keras.layers.Flatten(),\n",
        "    tf.keras.layers.Dense(512, activation = 'relu'),\n",
        "    tf.keras.layers.Dense(10, activation = 'softmax')\n",
        "])\n",
        "\n",
        "model.compile(optimizer = 'adam', loss = 'categorical_crossentropy', metrics = ['accuracy'])\n",
        "\n",
        "model.summary()"
      ],
      "execution_count": 35,
      "outputs": [
        {
          "output_type": "stream",
          "text": [
            "Model: \"sequential_2\"\n",
            "_________________________________________________________________\n",
            "Layer (type)                 Output Shape              Param #   \n",
            "=================================================================\n",
            "conv2d_4 (Conv2D)            (None, 26, 26, 32)        320       \n",
            "_________________________________________________________________\n",
            "max_pooling2d_4 (MaxPooling2 (None, 13, 13, 32)        0         \n",
            "_________________________________________________________________\n",
            "flatten_2 (Flatten)          (None, 5408)              0         \n",
            "_________________________________________________________________\n",
            "dense_4 (Dense)              (None, 512)               2769408   \n",
            "_________________________________________________________________\n",
            "dense_5 (Dense)              (None, 10)                5130      \n",
            "=================================================================\n",
            "Total params: 2,774,858\n",
            "Trainable params: 2,774,858\n",
            "Non-trainable params: 0\n",
            "_________________________________________________________________\n"
          ],
          "name": "stdout"
        }
      ]
    },
    {
      "cell_type": "code",
      "metadata": {
        "id": "FwEmB2TnF4Ry",
        "colab_type": "code",
        "colab": {
          "base_uri": "https://localhost:8080/",
          "height": 697
        },
        "outputId": "2bdd4b4e-59c1-4daf-af75-1ad2b8cb7d2e"
      },
      "source": [
        "history = model.fit(train_images, train_labels, epochs = 20, validation_split = 0.1, verbose = 1)"
      ],
      "execution_count": 37,
      "outputs": [
        {
          "output_type": "stream",
          "text": [
            "Epoch 1/20\n",
            "1182/1182 [==============================] - 47s 40ms/step - loss: 0.0949 - accuracy: 0.9703 - val_loss: 0.0753 - val_accuracy: 0.9762\n",
            "Epoch 2/20\n",
            "1182/1182 [==============================] - 47s 40ms/step - loss: 0.0441 - accuracy: 0.9865 - val_loss: 0.0654 - val_accuracy: 0.9798\n",
            "Epoch 3/20\n",
            "1182/1182 [==============================] - 46s 39ms/step - loss: 0.0263 - accuracy: 0.9918 - val_loss: 0.0455 - val_accuracy: 0.9833\n",
            "Epoch 4/20\n",
            "1182/1182 [==============================] - 46s 39ms/step - loss: 0.0158 - accuracy: 0.9953 - val_loss: 0.0506 - val_accuracy: 0.9855\n",
            "Epoch 5/20\n",
            "1182/1182 [==============================] - 50s 42ms/step - loss: 0.0138 - accuracy: 0.9953 - val_loss: 0.0455 - val_accuracy: 0.9867\n",
            "Epoch 6/20\n",
            "1182/1182 [==============================] - 46s 39ms/step - loss: 0.0068 - accuracy: 0.9978 - val_loss: 0.0654 - val_accuracy: 0.9838\n",
            "Epoch 7/20\n",
            "1182/1182 [==============================] - 46s 39ms/step - loss: 0.0074 - accuracy: 0.9976 - val_loss: 0.0577 - val_accuracy: 0.9838\n",
            "Epoch 8/20\n",
            "1182/1182 [==============================] - 46s 39ms/step - loss: 0.0096 - accuracy: 0.9967 - val_loss: 0.0487 - val_accuracy: 0.9881\n",
            "Epoch 9/20\n",
            "1182/1182 [==============================] - 46s 39ms/step - loss: 0.0025 - accuracy: 0.9994 - val_loss: 0.0558 - val_accuracy: 0.9862\n",
            "Epoch 10/20\n",
            "1182/1182 [==============================] - 46s 39ms/step - loss: 0.0036 - accuracy: 0.9988 - val_loss: 0.0779 - val_accuracy: 0.9840\n",
            "Epoch 11/20\n",
            "1182/1182 [==============================] - 47s 40ms/step - loss: 0.0051 - accuracy: 0.9983 - val_loss: 0.0623 - val_accuracy: 0.9871\n",
            "Epoch 12/20\n",
            "1182/1182 [==============================] - 46s 39ms/step - loss: 0.0043 - accuracy: 0.9988 - val_loss: 0.0551 - val_accuracy: 0.9883\n",
            "Epoch 13/20\n",
            "1182/1182 [==============================] - 47s 39ms/step - loss: 0.0013 - accuracy: 0.9996 - val_loss: 0.0459 - val_accuracy: 0.9893\n",
            "Epoch 14/20\n",
            "1182/1182 [==============================] - 47s 39ms/step - loss: 0.0042 - accuracy: 0.9988 - val_loss: 0.0523 - val_accuracy: 0.9874\n",
            "Epoch 15/20\n",
            "1182/1182 [==============================] - 49s 42ms/step - loss: 0.0020 - accuracy: 0.9993 - val_loss: 0.0720 - val_accuracy: 0.9850\n",
            "Epoch 16/20\n",
            "1182/1182 [==============================] - 47s 40ms/step - loss: 0.0029 - accuracy: 0.9991 - val_loss: 0.0642 - val_accuracy: 0.9864\n",
            "Epoch 17/20\n",
            "1182/1182 [==============================] - 47s 40ms/step - loss: 0.0022 - accuracy: 0.9992 - val_loss: 0.0696 - val_accuracy: 0.9843\n",
            "Epoch 18/20\n",
            "1182/1182 [==============================] - 50s 42ms/step - loss: 0.0027 - accuracy: 0.9991 - val_loss: 0.1289 - val_accuracy: 0.9771\n",
            "Epoch 19/20\n",
            "1182/1182 [==============================] - 47s 40ms/step - loss: 0.0037 - accuracy: 0.9988 - val_loss: 0.0521 - val_accuracy: 0.9883\n",
            "Epoch 20/20\n",
            "1182/1182 [==============================] - 47s 40ms/step - loss: 0.0010 - accuracy: 0.9997 - val_loss: 0.0470 - val_accuracy: 0.9895\n"
          ],
          "name": "stdout"
        }
      ]
    },
    {
      "cell_type": "code",
      "metadata": {
        "id": "9wGO00-UxEoe",
        "colab_type": "code",
        "colab": {
          "base_uri": "https://localhost:8080/",
          "height": 558
        },
        "outputId": "8f9057cd-27ed-4fe0-cef8-688e026f2bac"
      },
      "source": [
        "train_loss = history.history['loss']\n",
        "train_acc = history.history['accuracy']\n",
        "val_loss = history.history['val_loss']\n",
        "val_acc = history.history['val_accuracy']\n",
        "\n",
        "plt.figure()\n",
        "plt.plot(range(len(train_loss)), train_loss, '-', label = 'train-loss')\n",
        "plt.plot(range(len(val_loss)), val_loss, '-', label = 'validation-loss')\n",
        "plt.legend()\n",
        "plt.xlabel('Epochs')\n",
        "plt.ylabel('Loss')\n",
        "\n",
        "plt.figure()\n",
        "plt.plot(range(len(train_acc)), train_acc, '-', label = 'train-acc')\n",
        "plt.plot(range(len(val_acc)), val_acc, '-', label = 'validation-acc')\n",
        "plt.legend()\n",
        "plt.xlabel('Epochs')\n",
        "plt.ylabel('Accuracy')"
      ],
      "execution_count": 41,
      "outputs": [
        {
          "output_type": "execute_result",
          "data": {
            "text/plain": [
              "Text(0, 0.5, 'Accuracy')"
            ]
          },
          "metadata": {
            "tags": []
          },
          "execution_count": 41
        },
        {
          "output_type": "display_data",
          "data": {
            "image/png": "[encoded data removed]",
            "text/plain": [
              "<Figure size 432x288 with 1 Axes>"
            ]
          },
          "metadata": {
            "tags": [],
            "needs_background": "light"
          }
        },
        {
          "output_type": "display_data",
          "data": {
            "image/png": "[encoded data removed]",
            "text/plain": [
              "<Figure size 432x288 with 1 Axes>"
            ]
          },
          "metadata": {
            "tags": [],
            "needs_background": "light"
          }
        }
      ]
    },
    {
      "cell_type": "code",
      "metadata": {
        "id": "GdfDkpKVxch6",
        "colab_type": "code",
        "colab": {
          "base_uri": "https://localhost:8080/",
          "height": 204
        },
        "outputId": "3808bb99-35e7-4e66-8b82-9809c901a6b5"
      },
      "source": [
        "import pandas as pd\n",
        "results = model.predict(test_images)\n",
        "results = np.argmax(results, axis = 1)\n",
        "\n",
        "results = pd.Series(results, name = 'Label')\n",
        "submission = pd.concat([pd.Series(range(1,28001), name = 'ImageId'), results], axis = 1)\n",
        "submission.head()"
      ],
      "execution_count": 39,
      "outputs": [
        {
          "output_type": "execute_result",
          "data": {
            "text/html": [
              "<div>\n",
              "<style scoped>\n",
              "    .dataframe tbody tr th:only-of-type {\n",
              "        vertical-align: middle;\n",
              "    }\n",
              "\n",
              "    .dataframe tbody tr th {\n",
              "        vertical-align: top;\n",
              "    }\n",
              "\n",
              "    .dataframe thead th {\n",
              "        text-align: right;\n",
              "    }\n",
              "</style>\n",
              "<table border=\"1\" class=\"dataframe\">\n",
              "  <thead>\n",
              "    <tr style=\"text-align: right;\">\n",
              "      <th></th>\n",
              "      <th>ImageId</th>\n",
              "      <th>Label</th>\n",
              "    </tr>\n",
              "  </thead>\n",
              "  <tbody>\n",
              "    <tr>\n",
              "      <th>0</th>\n",
              "      <td>1</td>\n",
              "      <td>2</td>\n",
              "    </tr>\n",
              "    <tr>\n",
              "      <th>1</th>\n",
              "      <td>2</td>\n",
              "      <td>0</td>\n",
              "    </tr>\n",
              "    <tr>\n",
              "      <th>2</th>\n",
              "      <td>3</td>\n",
              "      <td>9</td>\n",
              "    </tr>\n",
              "    <tr>\n",
              "      <th>3</th>\n",
              "      <td>4</td>\n",
              "      <td>0</td>\n",
              "    </tr>\n",
              "    <tr>\n",
              "      <th>4</th>\n",
              "      <td>5</td>\n",
              "      <td>3</td>\n",
              "    </tr>\n",
              "  </tbody>\n",
              "</table>\n",
              "</div>"
            ],
            "text/plain": [
              "   ImageId  Label\n",
              "0        1      2\n",
              "1        2      0\n",
              "2        3      9\n",
              "3        4      0\n",
              "4        5      3"
            ]
          },
          "metadata": {
            "tags": []
          },
          "execution_count": 39
        }
      ]
    },
    {
      "cell_type": "code",
      "metadata": {
        "id": "3wU3lcFuEbt3",
        "colab_type": "code",
        "colab": {}
      },
      "source": [
        "submission.to_csv('submission.csv', index=False)"
      ],
      "execution_count": 40,
      "outputs": []
    }
  ]
}